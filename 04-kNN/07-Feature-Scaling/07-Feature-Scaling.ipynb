{
 "cells": [
  {
   "cell_type": "markdown",
   "metadata": {},
   "source": [
    "## 07 数据归一化处理"
   ]
  },
  {
   "cell_type": "code",
   "execution_count": 1,
   "metadata": {},
   "outputs": [],
   "source": [
    "import numpy as np\n",
    "import matplotlib.pyplot as plt"
   ]
  },
  {
   "cell_type": "markdown",
   "metadata": {},
   "source": [
    "### 最值归一化 Normalization"
   ]
  },
  {
   "cell_type": "code",
   "execution_count": 2,
   "metadata": {},
   "outputs": [],
   "source": [
    "x = np.random.randint(0, 100, 100) "
   ]
  },
  {
   "cell_type": "code",
   "execution_count": 3,
   "metadata": {},
   "outputs": [
    {
     "data": {
      "text/plain": [
       "array([41, 96, 38, 81, 73, 32, 76, 59,  8,  0, 58, 44, 63, 99, 83, 88,  8,\n",
       "       41, 24, 33, 49,  5, 60, 90, 50, 82, 11, 65,  6, 87, 23, 65, 38,  4,\n",
       "       22, 93, 80, 34, 95, 70, 29, 30, 87,  5,  4, 48, 93, 57, 57, 69, 12,\n",
       "       29, 66, 30, 48, 42, 70, 18, 59, 41, 74, 95, 26, 52, 45, 69, 13, 28,\n",
       "       32, 23, 74, 66, 78, 10, 90, 65, 84, 32, 53, 69, 12, 81, 63, 92, 34,\n",
       "       18,  9,  4, 25, 58, 14, 82, 50, 98, 73, 91, 29, 38, 51, 59])"
      ]
     },
     "execution_count": 3,
     "metadata": {},
     "output_type": "execute_result"
    }
   ],
   "source": [
    "x"
   ]
  },
  {
   "cell_type": "code",
   "execution_count": 4,
   "metadata": {},
   "outputs": [
    {
     "data": {
      "text/plain": [
       "array([0.41414141, 0.96969697, 0.38383838, 0.81818182, 0.73737374,\n",
       "       0.32323232, 0.76767677, 0.5959596 , 0.08080808, 0.        ,\n",
       "       0.58585859, 0.44444444, 0.63636364, 1.        , 0.83838384,\n",
       "       0.88888889, 0.08080808, 0.41414141, 0.24242424, 0.33333333,\n",
       "       0.49494949, 0.05050505, 0.60606061, 0.90909091, 0.50505051,\n",
       "       0.82828283, 0.11111111, 0.65656566, 0.06060606, 0.87878788,\n",
       "       0.23232323, 0.65656566, 0.38383838, 0.04040404, 0.22222222,\n",
       "       0.93939394, 0.80808081, 0.34343434, 0.95959596, 0.70707071,\n",
       "       0.29292929, 0.3030303 , 0.87878788, 0.05050505, 0.04040404,\n",
       "       0.48484848, 0.93939394, 0.57575758, 0.57575758, 0.6969697 ,\n",
       "       0.12121212, 0.29292929, 0.66666667, 0.3030303 , 0.48484848,\n",
       "       0.42424242, 0.70707071, 0.18181818, 0.5959596 , 0.41414141,\n",
       "       0.74747475, 0.95959596, 0.26262626, 0.52525253, 0.45454545,\n",
       "       0.6969697 , 0.13131313, 0.28282828, 0.32323232, 0.23232323,\n",
       "       0.74747475, 0.66666667, 0.78787879, 0.1010101 , 0.90909091,\n",
       "       0.65656566, 0.84848485, 0.32323232, 0.53535354, 0.6969697 ,\n",
       "       0.12121212, 0.81818182, 0.63636364, 0.92929293, 0.34343434,\n",
       "       0.18181818, 0.09090909, 0.04040404, 0.25252525, 0.58585859,\n",
       "       0.14141414, 0.82828283, 0.50505051, 0.98989899, 0.73737374,\n",
       "       0.91919192, 0.29292929, 0.38383838, 0.51515152, 0.5959596 ])"
      ]
     },
     "execution_count": 4,
     "metadata": {},
     "output_type": "execute_result"
    }
   ],
   "source": [
    "(x - np.min(x)) / (np.max(x) - np.min(x))"
   ]
  },
  {
   "cell_type": "code",
   "execution_count": 5,
   "metadata": {},
   "outputs": [],
   "source": [
    "X = np.random.randint(0, 100, (50, 2))"
   ]
  },
  {
   "cell_type": "code",
   "execution_count": 6,
   "metadata": {},
   "outputs": [],
   "source": [
    "X = np.array(X, dtype=float)"
   ]
  },
  {
   "cell_type": "code",
   "execution_count": 7,
   "metadata": {},
   "outputs": [
    {
     "data": {
      "text/plain": [
       "array([[ 5., 88.],\n",
       "       [48., 24.],\n",
       "       [17., 76.],\n",
       "       [89., 64.],\n",
       "       [94., 59.],\n",
       "       [82.,  0.],\n",
       "       [26., 30.],\n",
       "       [ 5., 43.],\n",
       "       [92., 22.],\n",
       "       [32., 20.]])"
      ]
     },
     "execution_count": 7,
     "metadata": {},
     "output_type": "execute_result"
    }
   ],
   "source": [
    "X[:10,:]"
   ]
  },
  {
   "cell_type": "code",
   "execution_count": 8,
   "metadata": {},
   "outputs": [],
   "source": [
    "X[:,0] = (X[:,0] - np.min(X[:,0])) / (np.max(X[:,0]) - np.min(X[:,0]))\n",
    "X[:,1] = (X[:,1] - np.min(X[:,1])) / (np.max(X[:,1]) - np.min(X[:,1]))"
   ]
  },
  {
   "cell_type": "code",
   "execution_count": 9,
   "metadata": {},
   "outputs": [
    {
     "data": {
      "text/plain": [
       "array([[0.04081633, 0.88888889],\n",
       "       [0.47959184, 0.24242424],\n",
       "       [0.16326531, 0.76767677],\n",
       "       [0.89795918, 0.64646465],\n",
       "       [0.94897959, 0.5959596 ],\n",
       "       [0.82653061, 0.        ],\n",
       "       [0.25510204, 0.3030303 ],\n",
       "       [0.04081633, 0.43434343],\n",
       "       [0.92857143, 0.22222222],\n",
       "       [0.31632653, 0.2020202 ]])"
      ]
     },
     "execution_count": 9,
     "metadata": {},
     "output_type": "execute_result"
    }
   ],
   "source": [
    "X[:10,:]"
   ]
  },
  {
   "cell_type": "code",
   "execution_count": 10,
   "metadata": {},
   "outputs": [
    {
     "data": {
      "image/png": "[encoded data removed]",
      "text/plain": [
       "<Figure size 432x288 with 1 Axes>"
      ]
     },
     "metadata": {
      "needs_background": "light"
     },
     "output_type": "display_data"
    }
   ],
   "source": [
    "plt.scatter(X[:,0], X[:,1])\n",
    "plt.show()"
   ]
  },
  {
   "cell_type": "code",
   "execution_count": 11,
   "metadata": {},
   "outputs": [
    {
     "data": {
      "text/plain": [
       "0.5146938775510204"
      ]
     },
     "execution_count": 11,
     "metadata": {},
     "output_type": "execute_result"
    }
   ],
   "source": [
    "np.mean(X[:,0])"
   ]
  },
  {
   "cell_type": "code",
   "execution_count": 12,
   "metadata": {},
   "outputs": [
    {
     "data": {
      "text/plain": [
       "0.31037964956454017"
      ]
     },
     "execution_count": 12,
     "metadata": {},
     "output_type": "execute_result"
    }
   ],
   "source": [
    "np.std(X[:,0])"
   ]
  },
  {
   "cell_type": "code",
   "execution_count": 13,
   "metadata": {},
   "outputs": [
    {
     "data": {
      "text/plain": [
       "0.49353535353535355"
      ]
     },
     "execution_count": 13,
     "metadata": {},
     "output_type": "execute_result"
    }
   ],
   "source": [
    "np.mean(X[:,1])"
   ]
  },
  {
   "cell_type": "code",
   "execution_count": 14,
   "metadata": {},
   "outputs": [
    {
     "data": {
      "text/plain": [
       "0.2752373084478857"
      ]
     },
     "execution_count": 14,
     "metadata": {},
     "output_type": "execute_result"
    }
   ],
   "source": [
    "np.std(X[:,1])"
   ]
  },
  {
   "cell_type": "markdown",
   "metadata": {},
   "source": [
    "### 均值方差归一化 Standardization"
   ]
  },
  {
   "cell_type": "code",
   "execution_count": 15,
   "metadata": {},
   "outputs": [],
   "source": [
    "X2 = np.random.randint(0, 100, (50, 2))"
   ]
  },
  {
   "cell_type": "code",
   "execution_count": 16,
   "metadata": {},
   "outputs": [],
   "source": [
    "X2 = np.array(X2, dtype=float)"
   ]
  },
  {
   "cell_type": "code",
   "execution_count": 17,
   "metadata": {},
   "outputs": [
    {
     "data": {
      "text/plain": [
       "array([[77., 14.],\n",
       "       [49.,  6.],\n",
       "       [77., 34.],\n",
       "       [44., 17.],\n",
       "       [75., 75.],\n",
       "       [32., 41.],\n",
       "       [54., 81.],\n",
       "       [86., 29.],\n",
       "       [24., 94.],\n",
       "       [75., 25.]])"
      ]
     },
     "execution_count": 17,
     "metadata": {},
     "output_type": "execute_result"
    }
   ],
   "source": [
    "X2[:10,:]"
   ]
  },
  {
   "cell_type": "code",
   "execution_count": 18,
   "metadata": {},
   "outputs": [],
   "source": [
    "X2[:,0] = (X2[:,0] - np.mean(X2[:,0])) / np.std(X2[:,0])\n",
    "X2[:,1] = (X2[:,1] - np.mean(X2[:,1])) / np.std(X2[:,1])"
   ]
  },
  {
   "cell_type": "code",
   "execution_count": 19,
   "metadata": {},
   "outputs": [
    {
     "data": {
      "image/png": "[encoded data removed]",
      "text/plain": [
       "<Figure size 432x288 with 1 Axes>"
      ]
     },
     "metadata": {
      "needs_background": "light"
     },
     "output_type": "display_data"
    }
   ],
   "source": [
    "plt.scatter(X2[:,0], X2[:,1])\n",
    "plt.show()"
   ]
  },
  {
   "cell_type": "code",
   "execution_count": 21,
   "metadata": {},
   "outputs": [
    {
     "data": {
      "text/plain": [
       "1.1102230246251565e-16"
      ]
     },
     "execution_count": 21,
     "metadata": {},
     "output_type": "execute_result"
    }
   ],
   "source": [
    "np.mean(X2[:,0])  # near to 0"
   ]
  },
  {
   "cell_type": "code",
   "execution_count": 22,
   "metadata": {},
   "outputs": [
    {
     "data": {
      "text/plain": [
       "1.0"
      ]
     },
     "execution_count": 22,
     "metadata": {},
     "output_type": "execute_result"
    }
   ],
   "source": [
    "np.std(X2[:,0])"
   ]
  },
  {
   "cell_type": "code",
   "execution_count": 23,
   "metadata": {},
   "outputs": [
    {
     "data": {
      "text/plain": [
       "-6.217248937900877e-17"
      ]
     },
     "execution_count": 23,
     "metadata": {},
     "output_type": "execute_result"
    }
   ],
   "source": [
    "np.mean(X2[:,1])"
   ]
  },
  {
   "cell_type": "code",
   "execution_count": 24,
   "metadata": {},
   "outputs": [
    {
     "data": {
      "text/plain": [
       "0.9999999999999999"
      ]
     },
     "execution_count": 24,
     "metadata": {},
     "output_type": "execute_result"
    }
   ],
   "source": [
    "np.std(X2[:,1])"
   ]
  },
  {
   "cell_type": "code",
   "execution_count": null,
   "metadata": {},
   "outputs": [],
   "source": []
  }
 ],
 "metadata": {
  "kernelspec": {
   "display_name": "Python 3",
   "language": "python",
   "name": "python3"
  },
  "language_info": {
   "codemirror_mode": {
    "name": "ipython",
    "version": 3
   },
   "file_extension": ".py",
   "mimetype": "text/x-python",
   "name": "python",
   "nbconvert_exporter": "python",
   "pygments_lexer": "ipython3",
   "version": "3.7.3"
  }
 },
 "nbformat": 4,
 "nbformat_minor": 2
}
